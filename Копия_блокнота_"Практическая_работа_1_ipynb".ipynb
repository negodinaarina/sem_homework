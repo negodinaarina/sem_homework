{
  "nbformat": 4,
  "nbformat_minor": 0,
  "metadata": {
    "colab": {
      "provenance": [],
      "include_colab_link": true
    },
    "kernelspec": {
      "name": "python3",
      "display_name": "Python 3"
    },
    "language_info": {
      "name": "python"
    }
  },
  "cells": [
    {
      "cell_type": "markdown",
      "metadata": {
        "id": "view-in-github",
        "colab_type": "text"
      },
      "source": [
        "<a href=\"https://colab.research.google.com/github/negodinaarina/sem_homework/blob/master/%D0%9A%D0%BE%D0%BF%D0%B8%D1%8F_%D0%B1%D0%BB%D0%BE%D0%BA%D0%BD%D0%BE%D1%82%D0%B0_%22%D0%9F%D1%80%D0%B0%D0%BA%D1%82%D0%B8%D1%87%D0%B5%D1%81%D0%BA%D0%B0%D1%8F_%D1%80%D0%B0%D0%B1%D0%BE%D1%82%D0%B0_1_ipynb%22.ipynb\" target=\"_parent\"><img src=\"https://colab.research.google.com/assets/colab-badge.svg\" alt=\"Open In Colab\"/></a>"
      ]
    },
    {
      "cell_type": "markdown",
      "source": [
        "Для выполнения заданий возьмите данные из папки [data](https://drive.google.com/drive/folders/17E4vB5kWr5FNjLKRU4XGoJSVTxn1jkg4?usp=sharing) о продажах. Данные распределены по 4 файлам:\n",
        "* sales_train.csv - данные о продажах с января 2013 по октябрь 2015.\n",
        "** date - дата продажы\n",
        "** date_block_num - номер месяца по порядку следования\n",
        "** shop_id - идентификатор магазина\n",
        "** item_id - идентификатор товара\n",
        "** item_price - цена товара\n",
        "** item_cnt_day - количество проданного товара одного вида в день\n",
        "\n",
        "* items.csv - подробная информация о товарах\n",
        "** item_id - идентификатор товара\n",
        "** item_name - название товара\n",
        "** category_id - идентификатор категории товара\n",
        "\n",
        "* item_categories.csv - подробная информация о категориях товаров\n",
        "** c - идентификатор категории товара\n",
        "** category_name - название категории товара\n",
        "\n",
        "* shops.csv - подробная информация о магазинах\n",
        "** shop_id - идентификатор магазина\n",
        "** shop_name - название магазина\n"
      ],
      "metadata": {
        "id": "gXG3QdhVLmkk"
      }
    },
    {
      "cell_type": "markdown",
      "source": [
        "# Задание 1 (3 балла)"
      ],
      "metadata": {
        "id": "X5oEdrHBJ9t8"
      }
    },
    {
      "cell_type": "markdown",
      "source": [
        "1. Возьмите 10 000 случайных строк из таблицы sales_train и найдите в них долю товаров из категории 37. \n",
        "2. Найдите самый удачный по общему количеству продаж день для магазина St. Petersburg Nevsky Center shopping center за 2014 год.\n",
        "3. Есть ли товар, который продается успешнее всех остальных (по ежемесячному количеству) во всех магазинах?"
      ],
      "metadata": {
        "id": "8tjm8ZhmKCDv"
      }
    },
    {
      "cell_type": "code",
      "source": [
        "from google.colab import drive\n",
        "drive.mount('/content/drive')"
      ],
      "metadata": {
        "id": "xF6gb2nDFHE7",
        "colab": {
          "base_uri": "https://localhost:8080/"
        },
        "outputId": "49c9eb05-25d1-4841-a5d3-bd3fd97b019d"
      },
      "execution_count": null,
      "outputs": [
        {
          "output_type": "stream",
          "name": "stdout",
          "text": [
            "Drive already mounted at /content/drive; to attempt to forcibly remount, call drive.mount(\"/content/drive\", force_remount=True).\n"
          ]
        }
      ]
    },
    {
      "cell_type": "code",
      "source": [
        "import pandas as pd\n",
        "sales = pd.DataFrame(pd.read_csv('/content/drive/MyDrive/data MEVD/sales_train.csv'))\n",
        "items = pd.DataFrame(pd.read_csv('/content/drive/MyDrive/data MEVD/items.csv'))\n",
        "merged = pd.merge(sales, items).sample(10000)\n",
        "print(f\"Доля товаров с категорией 37 в 10 000 случайных строк - {len(merged[merged['category_id']==37])/10000}\")\n"
      ],
      "metadata": {
        "id": "pLtSICpfFCEu",
        "colab": {
          "base_uri": "https://localhost:8080/"
        },
        "outputId": "96c640e7-9aad-486e-81ac-72cfcae31349"
      },
      "execution_count": null,
      "outputs": [
        {
          "output_type": "stream",
          "name": "stdout",
          "text": [
            "Доля товаров с категорией 37 в 10 000 случайных строк - 0.0619\n"
          ]
        }
      ]
    },
    {
      "cell_type": "code",
      "source": [
        "shops = pd.DataFrame(pd.read_csv('/content/drive/MyDrive/data MEVD/shops.csv'))\n",
        "sales = pd.DataFrame(pd.read_csv('/content/drive/MyDrive/data MEVD/sales_train.csv'))\n",
        "id = shops[shops.shop_name == ' St. Petersburg Nevsky Center shopping center']['shop_id']\n",
        "sales['date'] = pd.to_datetime(sales['date'], dayfirst=True)\n",
        "sales14 = (sales[\"date\"] > '01-01-2014') & (sales[\"date\"] <= '31-12-2014') & (sales[\"shop_id\"] == int(id))\n",
        "sales14 = sales.loc[sales14]\n",
        "sales14 = sales14[['date', 'item_cnt_day']].groupby(['date']).sum()\n",
        "print(sales14.nlargest(1, 'item_cnt_day'))"
      ],
      "metadata": {
        "id": "2oluSbJnVb9w",
        "colab": {
          "base_uri": "https://localhost:8080/"
        },
        "outputId": "e32552d3-720a-4f8c-a755-f2e41e687087"
      },
      "execution_count": null,
      "outputs": [
        {
          "output_type": "stream",
          "name": "stdout",
          "text": [
            "            item_cnt_day\n",
            "date                    \n",
            "2014-12-27         588.0\n"
          ]
        },
        {
          "output_type": "stream",
          "name": "stderr",
          "text": [
            "/usr/local/lib/python3.9/dist-packages/pandas/core/arraylike.py:52: UserWarning: Parsing '31-12-2014' in DD/MM/YYYY format. Provide format or specify infer_datetime_format=True for consistent parsing.\n",
            "  return self._cmp_method(other, operator.le)\n"
          ]
        }
      ]
    },
    {
      "cell_type": "code",
      "execution_count": null,
      "metadata": {
        "id": "6rgJ4XhoJwgW"
      },
      "outputs": [],
      "source": [
        "sales = pd.DataFrame(pd.read_csv('/content/drive/MyDrive/data MEVD/sales_train.csv'))\n",
        "items = pd.DataFrame(pd.read_csv('/content/drive/MyDrive/data MEVD/items.csv'))\n",
        "sales_g = sales[['date_block_num', 'item_id', 'item_cnt_day']].groupby([\"date_block_num\", \"item_id\"]).sum().reset_index()\n",
        "sales_g = sales_g.sort_values(by='item_cnt_day', ascending=False)\n",
        "sales_g.drop_duplicates(subset=['date_block_num'])\n",
        "l = list(sales_g['item_id'])\n",
        "f = True\n",
        "for i in range(1, len(l)):\n",
        "  if l[i-1] != l[i]:\n",
        "    f = False\n",
        "    break\n",
        "if f:\n",
        "  print(f'Есть товар, который продавался успешнее всех остальных каждый месяц - {l[0]}')\n",
        "else:\n",
        "  print('Такого товара нет')\n",
        "# print(sales_g.drop_duplicates(subset=['date_block_num']))\n"
      ]
    },
    {
      "cell_type": "markdown",
      "source": [
        "# Задание 2 (2 балла)"
      ],
      "metadata": {
        "id": "S6q5NDoCtO_F"
      }
    },
    {
      "cell_type": "markdown",
      "source": [
        "1. Найдите топ-10 самых часто покупаемых товаров (не забудьте учесть столбец item_cnt_day).\n",
        "2. Оставьте только те из них, которые покупали все три года (2013, 2014, 2015)."
      ],
      "metadata": {
        "id": "dzuPVpMztO_F"
      }
    },
    {
      "cell_type": "code",
      "source": [
        "from google.colab import drive\n",
        "drive.mount('/content/drive')\n",
        "import pandas as pd\n",
        "sales = pd.DataFrame(pd.read_csv('/content/drive/MyDrive/data MEVD/sales_train.csv'))[['item_id', 'item_cnt_day']].groupby(['item_id']).sum().reset_index().sort_values(by='item_cnt_day', ascending=False).head(10)\n",
        "items = pd.DataFrame(pd.read_csv('/content/drive/MyDrive/data MEVD/items.csv'))\n",
        "print('Самые продающиеся товары:')\n",
        "for item in sales.item_id:\n",
        "  print(items.loc[items['item_id'] == item].values[0])"
      ],
      "metadata": {
        "colab": {
          "base_uri": "https://localhost:8080/"
        },
        "id": "7EgdUfN6vy4K",
        "outputId": "5cb505f0-1aa4-4c6e-df96-f3bcc25d29e5"
      },
      "execution_count": null,
      "outputs": [
        {
          "output_type": "stream",
          "name": "stdout",
          "text": [
            "Drive already mounted at /content/drive; to attempt to forcibly remount, call drive.mount(\"/content/drive\", force_remount=True).\n",
            "Самые продающиеся товары:\n",
            "['Corporate package T-shirt 1C Interest white (34 * 42) 45 microns' 20949\n",
            " 71]\n",
            "['Diablo III [PC, Jewel, Russian version]' 2808 30]\n",
            "['Grand Theft Auto V [PS3, Russian subtitles]' 3732 19]\n",
            "['Acceptance of funds for 1C-Online' 17717 79]\n",
            "['Playstation Store replenishment of wallet: Payment card 1000 rubles.'\n",
            " 5822 35]\n",
            "['Grand Theft Auto V [Xbox 360, Russian subtitles]' 3734 23]\n",
            "['Sony PlayStation 4 (500 Gb) Black (CUH-1008A/1108A/B01)' 6675 12]\n",
            "['Grand Theft Auto V [PC, Russian subtitles]' 3731 30]\n",
            "['Battlefield 4 [PC, Russian version]' 1855 30]\n",
            "['Some of us [PS3, Russian version]' 16787 19]\n"
          ]
        }
      ]
    },
    {
      "cell_type": "code",
      "source": [
        "ids = sales['item_id']\n",
        "sales = pd.DataFrame(pd.read_csv('/content/drive/MyDrive/data MEVD/sales_train.csv'))[['date', 'item_id']]\n",
        "sales['date'] = pd.to_datetime(sales['date'], dayfirst=True)\n",
        "merged = pd.merge(ids, sales)\n",
        "merged = merged.groupby(merged.date.dt.year)['item_id'].apply(set).reset_index(name=\"item_id\")\n"
      ],
      "metadata": {
        "id": "lHM0JwxhK4Gs"
      },
      "execution_count": null,
      "outputs": []
    },
    {
      "cell_type": "code",
      "execution_count": null,
      "metadata": {
        "id": "DLGUVxaDtO_F",
        "colab": {
          "base_uri": "https://localhost:8080/"
        },
        "outputId": "7c18b71d-2eab-40fa-ec35-37cb1109208a"
      },
      "outputs": [
        {
          "output_type": "stream",
          "name": "stdout",
          "text": [
            "{6675, 3732, 17717, 20949, 3734, 2808, 16787, 5822, 1855}\n"
          ]
        }
      ],
      "source": [
        "set2013 = merged.at[0, 'item_id']\n",
        "set2014 = merged.at[1, 'item_id']\n",
        "set2015 = merged.at[2, 'item_id']\n",
        "ids = set2013.intersection(set2014, set2015)\n",
        "for id in ids:\n",
        "  print(items.at[id, 'item_name'])\n",
        "# print(ids)"
      ]
    },
    {
      "cell_type": "markdown",
      "source": [
        "# Задание 3 (3 балла)"
      ],
      "metadata": {
        "id": "oaood23UKK5e"
      }
    },
    {
      "cell_type": "markdown",
      "source": [
        "> При выполнении на pandas не используйте merge().\n",
        "\n",
        "1. Определите категорию товаров, в которой совершается минимальное число покупок. Выведите айди и название категории.\n",
        "2. Определите категорию товаров, в которой совершается максимальное число покупок. Выведите айди и название категории.\n",
        "\n",
        "*Если таких категорий несколько, выведите все.*"
      ],
      "metadata": {
        "id": "6fKaQTb0KK5f"
      }
    },
    {
      "cell_type": "code",
      "execution_count": 43,
      "metadata": {
        "id": "bc9NvOGjKK5g",
        "colab": {
          "base_uri": "https://localhost:8080/"
        },
        "outputId": "4b15b7b9-a6d8-4185-e05c-7ad3af79ea81"
      },
      "outputs": [
        {
          "output_type": "stream",
          "name": "stdout",
          "text": [
            "Drive already mounted at /content/drive; to attempt to forcibly remount, call drive.mount(\"/content/drive\", force_remount=True).\n"
          ]
        }
      ],
      "source": [
        "from google.colab import drive\n",
        "drive.mount('/content/drive')\n",
        "import pandas as pd\n",
        "cats = pd.DataFrame(pd.read_csv('/content/drive/MyDrive/data MEVD/item_categories.csv'))\n",
        "items = pd.DataFrame(pd.read_csv('/content/drive/MyDrive/data MEVD/items.csv'))\n",
        "sales = pd.DataFrame(pd.read_csv('/content/drive/MyDrive/data MEVD/sales_train.csv'))[['item_id', 'item_cnt_day']].groupby([\"item_id\"]).sum().reset_index()\n",
        "sales['category'] = 0\n",
        "for item in sales.item_id:\n",
        "  cat_id = items[items.item_id == item]['category_id'].values[0]\n",
        "  sales.loc[sales['item_id'] == item, ['category']] = cat_id\n",
        "sales = sales[['category', 'item_cnt_day']].groupby(['category']).sum().reset_index()\n",
        "sales = sales.sort_values(by='item_cnt_day', ascending=False)\n"
      ]
    },
    {
      "cell_type": "code",
      "source": [
        "sales = sales.reset_index(drop=True)\n",
        "minc = sales.loc[len(sales) - 1, 'item_cnt_day']\n",
        "maxc = sales.loc[0, 'item_cnt_day']\n",
        "max_c = []\n",
        "min_c = []\n",
        "max_c.append(sales.at[0, 'category'])\n",
        "min_c.append(sales.at[len(sales) - 1, 'category'])\n",
        "for i in range(1, len(sales) - 1):\n",
        "  if sales.loc[i, 'item_cnt_day'] == maxc:\n",
        "    max_c.append(sales.loc[i, 'category'])\n",
        "\n",
        "for i in range(len(sales) - 2, 0, -1):\n",
        "  if sales.loc[i, 'item_cnt_day'] == minc:\n",
        "    min_c.append(sales.loc[i, 'category'])\n",
        "\n",
        "print('Самые продаваемые категории:')\n",
        "for id in max_c:\n",
        "  name = cats.loc[cats['item_category_id'] == id]['item_category_name'].values[0]\n",
        "  print(f'Категория товара - {name}, id - {id}')\n",
        "\n",
        "print('Самые непродаваемые категории:')\n",
        "for id in min_c:\n",
        "  name = cats.loc[cats['item_category_id'] == id]['item_category_name'].values[0]\n",
        "  print(f'Категория товара - {name}, id - {id}')\n"
      ],
      "metadata": {
        "colab": {
          "base_uri": "https://localhost:8080/"
        },
        "id": "lbP4CXRX7VNm",
        "outputId": "a7f6d3ba-8f36-4b5b-fb3a-183482a4035a"
      },
      "execution_count": 44,
      "outputs": [
        {
          "output_type": "stream",
          "name": "stdout",
          "text": [
            "Самые продаваемые категории:\n",
            "Категория товара -  Cinema - DVD, id - 40\n",
            "Самые непродаваемые категории:\n",
            "Категория товара -  Books - Cognitive literature, id - 51\n",
            "Категория товара -  Game consoles - PS2, id - 10\n"
          ]
        }
      ]
    },
    {
      "cell_type": "markdown",
      "source": [
        "# Задание 4 (3 балла)"
      ],
      "metadata": {
        "id": "a99rnQRwKLLR"
      }
    },
    {
      "cell_type": "markdown",
      "source": [
        "1. Для категорий из задания 3 найдите среднее количество продаж каждого товара категории в 5 магазинах с наибольшими продажами. Оставьте в таблице только те товары, среднее количество продаж которых строго больше 100.\n",
        "2. Найдите месяц с максимальными продажами для каждого товара из пункта 1.\n"
      ],
      "metadata": {
        "id": "sxh1WWITKLLS"
      }
    },
    {
      "cell_type": "code",
      "execution_count": 46,
      "metadata": {
        "id": "MoRKW5P3KLLS",
        "colab": {
          "base_uri": "https://localhost:8080/"
        },
        "outputId": "234f811c-acbe-488e-e2a3-084a57b62bec"
      },
      "outputs": [
        {
          "output_type": "stream",
          "name": "stdout",
          "text": [
            "         item_cnt_day\n",
            "item_id              \n",
            "21404          1486.0\n",
            "10298          1363.0\n",
            "21440          1359.0\n",
            "11496          1122.0\n",
            "13811          1064.0\n",
            "...               ...\n",
            "8143              1.0\n",
            "14395             1.0\n",
            "14399             1.0\n",
            "14414             1.0\n",
            "0                 1.0\n",
            "\n",
            "[4716 rows x 1 columns]\n"
          ]
        }
      ],
      "source": [
        "cats = max_c + min_c\n",
        "df = pd.DataFrame(cats, columns=['category_id'])\n",
        "sales = pd.DataFrame(pd.read_csv('/content/drive/MyDrive/data MEVD/sales_train.csv'))\n",
        "items = pd.DataFrame(pd.read_csv('/content/drive/MyDrive/data MEVD/items.csv'))\n",
        "df = pd.merge(sales, items)[['date', 'date_block_num', 'shop_id', 'item_id', 'item_cnt_day', 'category_id']]\n",
        "iwannasurvive = df.loc[df['category_id']. isin(cats)].groupby(['date', 'shop_id', 'item_id', 'category_id', 'date_block_num']).sum().reset_index()\n",
        "top_shops = iwannasurvive[['shop_id', 'item_cnt_day']].groupby(['shop_id']).sum().reset_index().sort_values(by='item_cnt_day', ascending=False).head(5)\n",
        "top5 = iwannasurvive.loc[iwannasurvive['shop_id']. isin(top_shops['shop_id'])][['item_id', 'item_cnt_day', 'date']].groupby(['item_id']).sum().sort_values(by='item_cnt_day', ascending=False)\n",
        "print(top5)\n"
      ]
    },
    {
      "cell_type": "markdown",
      "source": [
        "# Задание 5 (3 балла)"
      ],
      "metadata": {
        "id": "d11G2DP4KLUy"
      }
    },
    {
      "cell_type": "markdown",
      "source": [
        "1. Для категорий из задания 3 найдите среднюю и медианную цену по категории в пределах каждого месяца. Выведите топ-10 товаров по медиане из каждой категории.\n",
        "2. В каждом году найдите месяцы, в которых средняя цена меньше, чем в предыдущем и следующем месяце."
      ],
      "metadata": {
        "id": "RX3FC6lbKLUz"
      }
    },
    {
      "cell_type": "code",
      "execution_count": null,
      "metadata": {
        "id": "zpwSYpteKLU0"
      },
      "outputs": [],
      "source": [
        "# PUT YOUR CODE HERE"
      ]
    }
  ]
}